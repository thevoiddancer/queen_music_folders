{
 "cells": [
  {
   "cell_type": "code",
   "execution_count": 67,
   "metadata": {},
   "outputs": [
    {
     "name": "stdout",
     "output_type": "stream",
     "text": [
      "c:\\Users\\Korisnik\\Desktop\\Python - Tomislav Nazifovic\\queen_music_folders\\music\\1986 - a kind of magic\n",
      "c:\\Users\\Korisnik\\Desktop\\Python - Tomislav Nazifovic\\queen_music_folders\\music\\1986 - A Kind Of Magic\n",
      "c:\\Users\\Korisnik\\Desktop\\Python - Tomislav Nazifovic\\queen_music_folders\\music\\Queen Ii (1994)\n",
      "c:\\Users\\Korisnik\\Desktop\\Python - Tomislav Nazifovic\\queen_music_folders\\music\\1994 - Queen Ii\n",
      "c:\\Users\\Korisnik\\Desktop\\Python - Tomislav Nazifovic\\queen_music_folders\\music\\[1980 ]- The Game\n",
      "c:\\Users\\Korisnik\\Desktop\\Python - Tomislav Nazifovic\\queen_music_folders\\music\\1980 - The Game\n"
     ]
    }
   ],
   "source": [
    "import pathlib\n",
    "\n",
    "root_path = pathlib.Path('.').absolute()\n",
    "album_path = root_path / 'music'\n",
    "\n",
    "for album in album_path.iterdir():\n",
    "    parent = album.parent\n",
    "    print(album)\n",
    "    # year_split = [part.strip('[] ') for part in album.name.split('-')]\n",
    "\n",
    "    year_split = album.name.split('-')\n",
    "    for idx in range(len(year_split)):\n",
    "        year_split[idx] = year_split[idx].strip('[] ').title()\n",
    "\n",
    "    if len(year_split) == 2:\n",
    "        pass\n",
    "    else:\n",
    "        year_split = [part.strip('() ').title() for part in year_split[0].split('(')]\n",
    "\n",
    "    for part in year_split:\n",
    "        if part.isdigit():\n",
    "            godine = part\n",
    "        else:\n",
    "            naslov = part\n",
    "\n",
    "    novo_ime = godine + ' - ' + naslov\n",
    "    print(parent / novo_ime)\n",
    "    album.rename(parent / novo_ime)"
   ]
  },
  {
   "cell_type": "code",
   "execution_count": 3,
   "metadata": {},
   "outputs": [
    {
     "name": "stdout",
     "output_type": "stream",
     "text": [
      "3\n",
      "one year of live\n",
      "queen\n"
     ]
    }
   ],
   "source": [
    "_, broj, naziv = 'queen - 3 - one year of live'.split(' - ')\n",
    "\n",
    "print(broj)\n",
    "print(naziv)\n",
    "print(_)"
   ]
  },
  {
   "cell_type": "code",
   "execution_count": 4,
   "metadata": {},
   "outputs": [
    {
     "name": "stdout",
     "output_type": "stream",
     "text": [
      "3\n",
      "one year of live\n"
     ]
    }
   ],
   "source": [
    "split_list = 'queen - 3 - one year of live'.split(' - ')\n",
    "broj = split_list[1]\n",
    "naziv = split_list[2]\n",
    "\n",
    "print(broj)\n",
    "print(naziv)"
   ]
  }
 ],
 "metadata": {
  "kernelspec": {
   "display_name": "Python 3",
   "language": "python",
   "name": "python3"
  },
  "language_info": {
   "codemirror_mode": {
    "name": "ipython",
    "version": 3
   },
   "file_extension": ".py",
   "mimetype": "text/x-python",
   "name": "python",
   "nbconvert_exporter": "python",
   "pygments_lexer": "ipython3",
   "version": "3.13.1"
  }
 },
 "nbformat": 4,
 "nbformat_minor": 2
}
